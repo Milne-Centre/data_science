{
  "cells": [
    {
      "cell_type": "code",
      "source": [
        "import numpy as np"
      ],
      "outputs": [],
      "execution_count": 1,
      "metadata": {
        "execution": {
          "iopub.status.busy": "2021-11-15T01:03:34.997Z",
          "iopub.execute_input": "2021-11-15T01:03:35.009Z",
          "iopub.status.idle": "2021-11-15T01:03:35.303Z",
          "shell.execute_reply": "2021-11-15T01:03:35.705Z"
        }
      }
    },
    {
      "cell_type": "code",
      "source": [
        "# define two random matrices and a column vector\n",
        "a = np.array([[0,0.5],[-1,2]])\n",
        "b = np.array([[2,-0.5],[3,1.5]])\n",
        "c = np.array([[1],[-0.5]])"
      ],
      "outputs": [],
      "execution_count": 2,
      "metadata": {
        "execution": {
          "iopub.status.busy": "2021-11-15T01:03:35.315Z",
          "iopub.execute_input": "2021-11-15T01:03:35.324Z",
          "iopub.status.idle": "2021-11-15T01:03:35.337Z",
          "shell.execute_reply": "2021-11-15T01:03:35.710Z"
        }
      }
    },
    {
      "cell_type": "code",
      "source": [
        "# multiply by scalar\n",
        "5.*a"
      ],
      "outputs": [
        {
          "output_type": "execute_result",
          "execution_count": 3,
          "data": {
            "text/plain": "array([[ 0. ,  2.5],\n       [-5. , 10. ]])"
          },
          "metadata": {}
        }
      ],
      "execution_count": 3,
      "metadata": {
        "execution": {
          "iopub.status.busy": "2021-11-15T01:03:35.348Z",
          "iopub.execute_input": "2021-11-15T01:03:35.360Z",
          "iopub.status.idle": "2021-11-15T01:03:35.380Z",
          "shell.execute_reply": "2021-11-15T01:03:35.716Z"
        }
      }
    },
    {
      "cell_type": "code",
      "source": [
        "# matrix product\n",
        "d = np.dot(a,b)\n",
        "print(a); print(b); print(d)"
      ],
      "outputs": [
        {
          "output_type": "stream",
          "name": "stdout",
          "text": [
            "[[ 0.   0.5]\n",
            " [-1.   2. ]]\n",
            "[[ 2.  -0.5]\n",
            " [ 3.   1.5]]\n",
            "[[1.5  0.75]\n",
            " [4.   3.5 ]]\n"
          ]
        }
      ],
      "execution_count": 4,
      "metadata": {
        "execution": {
          "iopub.status.busy": "2021-11-15T01:03:35.392Z",
          "iopub.execute_input": "2021-11-15T01:03:35.401Z",
          "iopub.status.idle": "2021-11-15T01:03:35.418Z",
          "shell.execute_reply": "2021-11-15T01:03:35.721Z"
        }
      }
    },
    {
      "cell_type": "code",
      "source": [
        "# matrix vector product\n",
        "e= np.dot(a,c)\n",
        "print(a);print(c);print(e)"
      ],
      "outputs": [
        {
          "output_type": "stream",
          "name": "stdout",
          "text": [
            "[[ 0.   0.5]\n",
            " [-1.   2. ]]\n",
            "[[ 1. ]\n",
            " [-0.5]]\n",
            "[[-0.25]\n",
            " [-2.  ]]\n"
          ]
        }
      ],
      "execution_count": 5,
      "metadata": {
        "collapsed": true,
        "jupyter": {
          "source_hidden": false,
          "outputs_hidden": false
        },
        "nteract": {
          "transient": {
            "deleting": false
          }
        },
        "execution": {
          "iopub.status.busy": "2021-11-15T01:03:35.427Z",
          "iopub.execute_input": "2021-11-15T01:03:35.434Z",
          "iopub.status.idle": "2021-11-15T01:03:35.446Z",
          "shell.execute_reply": "2021-11-15T01:03:35.729Z"
        }
      }
    },
    {
      "cell_type": "code",
      "source": [
        "# transpose matrix\n",
        "a_t = a.transpose()\n",
        "print(a_t)"
      ],
      "outputs": [
        {
          "output_type": "stream",
          "name": "stdout",
          "text": [
            "[[ 0.  -1. ]\n",
            " [ 0.5  2. ]]\n"
          ]
        }
      ],
      "execution_count": 6,
      "metadata": {
        "execution": {
          "iopub.status.busy": "2021-11-15T01:03:35.456Z",
          "iopub.execute_input": "2021-11-15T01:03:35.462Z",
          "iopub.status.idle": "2021-11-15T01:03:35.478Z",
          "shell.execute_reply": "2021-11-15T01:03:35.734Z"
        }
      }
    },
    {
      "cell_type": "code",
      "source": [
        "# identity matrix\n",
        "i = np.eye(3,3)\n",
        "print(i)"
      ],
      "outputs": [
        {
          "output_type": "stream",
          "name": "stdout",
          "text": [
            "[[1. 0. 0.]\n",
            " [0. 1. 0.]\n",
            " [0. 0. 1.]]\n"
          ]
        }
      ],
      "execution_count": 7,
      "metadata": {
        "execution": {
          "iopub.status.busy": "2021-11-15T01:03:35.488Z",
          "iopub.execute_input": "2021-11-15T01:03:35.493Z",
          "iopub.status.idle": "2021-11-15T01:03:35.512Z",
          "shell.execute_reply": "2021-11-15T01:03:35.739Z"
        }
      }
    },
    {
      "cell_type": "code",
      "source": [
        "#Compute the norm of c\n",
        "c_n = np.linalg.norm(c)\n",
        "print(c_n)"
      ],
      "outputs": [
        {
          "output_type": "stream",
          "name": "stdout",
          "text": [
            "1.118033988749895\n"
          ]
        }
      ],
      "execution_count": 8,
      "metadata": {
        "execution": {
          "iopub.status.busy": "2021-11-15T01:03:35.525Z",
          "iopub.execute_input": "2021-11-15T01:03:35.534Z",
          "iopub.status.idle": "2021-11-15T01:03:35.553Z",
          "shell.execute_reply": "2021-11-15T01:03:35.745Z"
        }
      }
    },
    {
      "cell_type": "code",
      "source": [
        "#alternative\n",
        "np.sqrt(c[0]**2+c[1]**2)[0]"
      ],
      "outputs": [
        {
          "output_type": "execute_result",
          "execution_count": 9,
          "data": {
            "text/plain": "1.118033988749895"
          },
          "metadata": {}
        }
      ],
      "execution_count": 9,
      "metadata": {
        "execution": {
          "iopub.status.busy": "2021-11-15T01:03:35.565Z",
          "iopub.execute_input": "2021-11-15T01:03:35.573Z",
          "iopub.status.idle": "2021-11-15T01:03:35.588Z",
          "shell.execute_reply": "2021-11-15T01:03:35.751Z"
        }
      }
    },
    {
      "cell_type": "code",
      "source": [
        "#determinant of a\n",
        "a_det = np.linalg.det(a); print(a_det)"
      ],
      "outputs": [
        {
          "output_type": "stream",
          "name": "stdout",
          "text": [
            "0.5\n"
          ]
        }
      ],
      "execution_count": 10,
      "metadata": {
        "execution": {
          "iopub.status.busy": "2021-11-15T01:03:35.596Z",
          "iopub.execute_input": "2021-11-15T01:03:35.602Z",
          "iopub.status.idle": "2021-11-15T01:03:35.618Z",
          "shell.execute_reply": "2021-11-15T01:03:35.755Z"
        }
      }
    },
    {
      "cell_type": "code",
      "source": [
        "#inverse of a\n",
        "a_inv = np.linalg.inv(a); print(a_inv)"
      ],
      "outputs": [
        {
          "output_type": "stream",
          "name": "stdout",
          "text": [
            "[[ 4. -1.]\n",
            " [ 2.  0.]]\n"
          ]
        }
      ],
      "execution_count": 11,
      "metadata": {
        "execution": {
          "iopub.status.busy": "2021-11-15T01:03:35.628Z",
          "iopub.execute_input": "2021-11-15T01:03:35.635Z",
          "iopub.status.idle": "2021-11-15T01:03:35.649Z",
          "shell.execute_reply": "2021-11-15T01:03:35.760Z"
        }
      }
    },
    {
      "cell_type": "code",
      "source": [
        "#Checking \n",
        "print(np.dot(a_inv,a))"
      ],
      "outputs": [
        {
          "output_type": "stream",
          "name": "stdout",
          "text": [
            "[[1. 0.]\n",
            " [0. 1.]]\n"
          ]
        }
      ],
      "execution_count": 12,
      "metadata": {
        "execution": {
          "iopub.status.busy": "2021-11-15T01:03:35.658Z",
          "iopub.execute_input": "2021-11-15T01:03:35.666Z",
          "iopub.status.idle": "2021-11-15T01:03:35.684Z",
          "shell.execute_reply": "2021-11-15T01:03:35.763Z"
        }
      }
    }
  ],
  "metadata": {
    "kernelspec": {
      "display_name": "Python 3",
      "language": "python",
      "name": "python3"
    },
    "language_info": {
      "name": "python",
      "version": "3.7.8",
      "mimetype": "text/x-python",
      "codemirror_mode": {
        "name": "ipython",
        "version": 3
      },
      "pygments_lexer": "ipython3",
      "nbconvert_exporter": "python",
      "file_extension": ".py"
    },
    "nteract": {
      "version": "0.28.0"
    }
  },
  "nbformat": 4,
  "nbformat_minor": 2
}